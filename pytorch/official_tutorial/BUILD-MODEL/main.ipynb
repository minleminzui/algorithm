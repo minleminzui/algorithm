{
 "cells": [
  {
   "cell_type": "code",
   "execution_count": 1,
   "metadata": {},
   "outputs": [
    {
     "name": "stdout",
     "output_type": "stream",
     "text": [
      "Using cpu device\n"
     ]
    },
    {
     "name": "stderr",
     "output_type": "stream",
     "text": [
      "/home/yitong/miniconda3/envs/d2l/lib/python3.9/site-packages/torchvision/io/image.py:13: UserWarning: Failed to load image Python extension: /home/yitong/miniconda3/envs/d2l/lib/python3.9/site-packages/torchvision/image.so: undefined symbol: _ZN5torch3jit17parseSchemaOrNameERKNSt7__cxx1112basic_stringIcSt11char_traitsIcESaIcEEE\n",
      "  warn(f\"Failed to load image Python extension: {e}\")\n"
     ]
    }
   ],
   "source": [
    "import os\n",
    "import torch\n",
    "from torch import nn\n",
    "from torch.utils.data import DataLoader\n",
    "from torchvision import datasets, transforms\n",
    "\n",
    "device = (\n",
    "    'cuda'\n",
    "    if torch.cuda.is_available()\n",
    "    else 'mps'\n",
    "    if torch.backends.mps.is_available()\n",
    "    else 'cpu'\n",
    ")\n",
    "print('Using {} device'.format(device))\n",
    "\n"
   ]
  },
  {
   "cell_type": "code",
   "execution_count": 2,
   "metadata": {},
   "outputs": [
    {
     "name": "stdout",
     "output_type": "stream",
     "text": [
      "NeuralNetwork(\n",
      "  (flatten): Flatten(start_dim=1, end_dim=-1)\n",
      "  (linear_relu_stack): Sequential(\n",
      "    (0): Linear(in_features=784, out_features=512, bias=True)\n",
      "    (1): ReLU()\n",
      "    (2): Linear(in_features=512, out_features=512, bias=True)\n",
      "    (3): ReLU()\n",
      "    (4): Linear(in_features=512, out_features=10, bias=True)\n",
      "  )\n",
      ")\n"
     ]
    }
   ],
   "source": [
    "class NeuralNetwork(nn.Module):\n",
    "    def __init__(self):\n",
    "        super().__init__()\n",
    "        self.flatten = nn.Flatten()\n",
    "        self.linear_relu_stack = nn.Sequential(\n",
    "            nn.Linear(28 * 28, 512),\n",
    "            nn.ReLU(),\n",
    "            nn.Linear(512, 512),\n",
    "            nn.ReLU(),\n",
    "            nn.Linear(512, 10),\n",
    "        )\n",
    "    \n",
    "    def forward(self, x):\n",
    "        x = self.flatten(x)\n",
    "        logits = self.linear_relu_stack(x)\n",
    "        return logits\n",
    "\n",
    "model = NeuralNetwork().to(device)\n",
    "print(model)"
   ]
  },
  {
   "cell_type": "code",
   "execution_count": 8,
   "metadata": {},
   "outputs": [
    {
     "name": "stdout",
     "output_type": "stream",
     "text": [
      "tensor([[ 0.0683,  0.0156, -0.1464,  0.0348,  0.0071,  0.1196,  0.0025, -0.0195,\n",
      "         -0.0385,  0.1217],\n",
      "        [ 0.0545,  0.0078, -0.1202,  0.0647, -0.0310,  0.1147,  0.0306, -0.0578,\n",
      "         -0.0368,  0.1383],\n",
      "        [ 0.0867, -0.0185, -0.1276,  0.0237,  0.0549,  0.1445,  0.0007, -0.0479,\n",
      "         -0.0314,  0.1466]], grad_fn=<AddmmBackward0>)\n",
      "Predicted class: {} tensor([9, 9, 9])\n"
     ]
    }
   ],
   "source": [
    "X = torch.rand(3, 28, 28, device=device)\n",
    "logits = model(X)\n",
    "pred_probab = nn.Softmax(dim=1)(logits)\n",
    "y_pred = pred_probab.argmax(1)\n",
    "print('Predicted class: {}', y_pred)"
   ]
  },
  {
   "cell_type": "code",
   "execution_count": 7,
   "metadata": {},
   "outputs": [
    {
     "name": "stdout",
     "output_type": "stream",
     "text": [
      "torch.Size([3, 28, 28])\n",
      "torch.Size([3, 784])\n"
     ]
    }
   ],
   "source": [
    "input_image = torch.rand(3, 28 ,28)\n",
    "print(input_image.size())\n",
    "\n",
    "flatten = nn.Flatten()\n",
    "flat_image = flatten(input_image)\n",
    "print(flat_image.size())"
   ]
  },
  {
   "cell_type": "code",
   "execution_count": 9,
   "metadata": {},
   "outputs": [
    {
     "name": "stdout",
     "output_type": "stream",
     "text": [
      "torch.Size([3, 20])\n"
     ]
    }
   ],
   "source": [
    "layer1 = nn.Linear(in_features=28*28, out_features=20)\n",
    "hidden1 = layer1(flat_image)\n",
    "print(hidden1.size())"
   ]
  },
  {
   "cell_type": "code",
   "execution_count": 10,
   "metadata": {},
   "outputs": [
    {
     "name": "stdout",
     "output_type": "stream",
     "text": [
      "Before ReLU: tensor([[-0.4119, -0.0854,  0.1147, -0.5203, -0.0438,  0.5005, -0.0232, -0.3435,\n",
      "         -0.1391,  0.0225,  0.0134, -0.1655, -0.1851, -0.1393, -0.0832,  0.6489,\n",
      "          0.5483,  0.0768, -0.0664,  0.4829],\n",
      "        [ 0.1259, -0.3167,  0.0401, -0.8039,  0.0100,  0.1957,  0.1441, -0.0725,\n",
      "         -0.1131,  0.1927, -0.2487, -0.1218, -0.2589,  0.1218,  0.0374,  0.2957,\n",
      "          0.4169,  0.1265,  0.0019,  0.0675],\n",
      "        [-0.3395, -0.1361,  0.3152, -0.6311, -0.1833,  0.4475, -0.0677,  0.2858,\n",
      "         -0.3582, -0.1340, -0.0187, -0.3711, -0.1147, -0.3212, -0.3000,  0.6141,\n",
      "         -0.0178,  0.0134,  0.0786,  0.0444]], grad_fn=<AddmmBackward0>)\n",
      "\n",
      "\n",
      "After ReLU: tensor([[0.0000, 0.0000, 0.1147, 0.0000, 0.0000, 0.5005, 0.0000, 0.0000, 0.0000,\n",
      "         0.0225, 0.0134, 0.0000, 0.0000, 0.0000, 0.0000, 0.6489, 0.5483, 0.0768,\n",
      "         0.0000, 0.4829],\n",
      "        [0.1259, 0.0000, 0.0401, 0.0000, 0.0100, 0.1957, 0.1441, 0.0000, 0.0000,\n",
      "         0.1927, 0.0000, 0.0000, 0.0000, 0.1218, 0.0374, 0.2957, 0.4169, 0.1265,\n",
      "         0.0019, 0.0675],\n",
      "        [0.0000, 0.0000, 0.3152, 0.0000, 0.0000, 0.4475, 0.0000, 0.2858, 0.0000,\n",
      "         0.0000, 0.0000, 0.0000, 0.0000, 0.0000, 0.0000, 0.6141, 0.0000, 0.0134,\n",
      "         0.0786, 0.0444]], grad_fn=<ReluBackward0>)\n",
      "\n",
      "\n"
     ]
    }
   ],
   "source": [
    "print(\"Before ReLU: {}\\n\\n\".format(hidden1))\n",
    "hidden1 = nn.ReLU()(hidden1)\n",
    "print(\"After ReLU: {}\\n\\n\".format(hidden1))"
   ]
  },
  {
   "cell_type": "code",
   "execution_count": 13,
   "metadata": {},
   "outputs": [
    {
     "name": "stdout",
     "output_type": "stream",
     "text": [
      "tensor([[-0.1267,  0.1495, -0.1998, -0.0884, -0.2506, -0.1846,  0.1773, -0.0722,\n",
      "         -0.3234,  0.0428],\n",
      "        [-0.1354,  0.2015, -0.2015, -0.0862, -0.2298, -0.2521,  0.1786, -0.0048,\n",
      "         -0.2966,  0.0995],\n",
      "        [-0.0911,  0.2023, -0.1531, -0.0904, -0.2539, -0.1713,  0.1388, -0.0078,\n",
      "         -0.3110,  0.0441]], grad_fn=<AddmmBackward0>)\n"
     ]
    }
   ],
   "source": [
    "seq_modules = nn.Sequential(\n",
    "    flatten,\n",
    "    layer1,\n",
    "    nn.ReLU(),\n",
    "    nn.Linear(20, 10)\n",
    ")\n",
    "input_image = torch.rand(3, 28, 28)\n",
    "logits = seq_modules(input_image)\n",
    "print(logits)"
   ]
  },
  {
   "cell_type": "code",
   "execution_count": 15,
   "metadata": {},
   "outputs": [
    {
     "name": "stdout",
     "output_type": "stream",
     "text": [
      "tensor([[0.0950, 0.1252, 0.0883, 0.0987, 0.0839, 0.0896, 0.1287, 0.1003, 0.0780,\n",
      "         0.1125],\n",
      "        [0.0925, 0.1295, 0.0866, 0.0972, 0.0842, 0.0823, 0.1266, 0.1054, 0.0787,\n",
      "         0.1170],\n",
      "        [0.0966, 0.1296, 0.0908, 0.0967, 0.0821, 0.0892, 0.1216, 0.1050, 0.0776,\n",
      "         0.1106]], grad_fn=<SoftmaxBackward0>)\n"
     ]
    }
   ],
   "source": [
    "softmax = nn.Softmax(dim=1)\n",
    "pred_probab = softmax(logits)\n",
    "print(pred_probab)"
   ]
  },
  {
   "cell_type": "code",
   "execution_count": 17,
   "metadata": {},
   "outputs": [
    {
     "name": "stdout",
     "output_type": "stream",
     "text": [
      "Model structure: NeuralNetwork(\n",
      "  (flatten): Flatten(start_dim=1, end_dim=-1)\n",
      "  (linear_relu_stack): Sequential(\n",
      "    (0): Linear(in_features=784, out_features=512, bias=True)\n",
      "    (1): ReLU()\n",
      "    (2): Linear(in_features=512, out_features=512, bias=True)\n",
      "    (3): ReLU()\n",
      "    (4): Linear(in_features=512, out_features=10, bias=True)\n",
      "  )\n",
      ")\n",
      "\n",
      "Layer: linear_relu_stack.0.weight | Size: torch.Size([512, 784]) | Value: tensor([[-1.6362e-03, -4.1012e-05,  2.1428e-02,  ..., -9.8728e-04,\n",
      "         -1.9958e-02, -2.3179e-02],\n",
      "        [ 1.7746e-02,  5.5712e-03, -2.3535e-02,  ...,  8.2951e-03,\n",
      "         -3.2924e-02, -2.1465e-02]], grad_fn=<SliceBackward0>)\n",
      "\n",
      "Layer: linear_relu_stack.0.bias | Size: torch.Size([512]) | Value: tensor([-0.0226,  0.0166], grad_fn=<SliceBackward0>)\n",
      "\n",
      "Layer: linear_relu_stack.2.weight | Size: torch.Size([512, 512]) | Value: tensor([[-0.0422,  0.0209, -0.0186,  ...,  0.0111, -0.0156,  0.0255],\n",
      "        [ 0.0121, -0.0437, -0.0382,  ..., -0.0171, -0.0172, -0.0288]],\n",
      "       grad_fn=<SliceBackward0>)\n",
      "\n",
      "Layer: linear_relu_stack.2.bias | Size: torch.Size([512]) | Value: tensor([-0.0437,  0.0046], grad_fn=<SliceBackward0>)\n",
      "\n",
      "Layer: linear_relu_stack.4.weight | Size: torch.Size([10, 512]) | Value: tensor([[-0.0154,  0.0249, -0.0190,  ...,  0.0207,  0.0252,  0.0363],\n",
      "        [ 0.0234,  0.0297, -0.0332,  ..., -0.0128,  0.0250, -0.0267]],\n",
      "       grad_fn=<SliceBackward0>)\n",
      "\n",
      "Layer: linear_relu_stack.4.bias | Size: torch.Size([10]) | Value: tensor([-0.0194,  0.0160], grad_fn=<SliceBackward0>)\n",
      "\n"
     ]
    }
   ],
   "source": [
    "print(\"Model structure: {}\\n\".format(model))\n",
    "for name, param in model.named_parameters():\n",
    "    print(\"Layer: {} | Size: {} | Value: {}\\n\".format(name, param.size(), param[:2]))"
   ]
  }
 ],
 "metadata": {
  "kernelspec": {
   "display_name": "d2l",
   "language": "python",
   "name": "python3"
  },
  "language_info": {
   "codemirror_mode": {
    "name": "ipython",
    "version": 3
   },
   "file_extension": ".py",
   "mimetype": "text/x-python",
   "name": "python",
   "nbconvert_exporter": "python",
   "pygments_lexer": "ipython3",
   "version": "3.9.16"
  },
  "orig_nbformat": 4
 },
 "nbformat": 4,
 "nbformat_minor": 2
}
